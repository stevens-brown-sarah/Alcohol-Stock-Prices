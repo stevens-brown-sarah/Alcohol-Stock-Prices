{
 "cells": [
  {
   "cell_type": "markdown",
   "id": "8f5310de",
   "metadata": {},
   "source": [
    "# Alcohol Stock Price During Covid (UK USA)"
   ]
  },
  {
   "attachments": {},
   "cell_type": "markdown",
   "id": "cfd59385",
   "metadata": {},
   "source": [
    "This is just a preliminary look at stock prices. I'm interested in comparing how alcohol use changed in the USA and UK during lockdown. Since it's only an initial look, I'm going to only use a very limited number of companies, but I appreciate that no real findings can be drawn from such a limited sample. I'm going to look at Stock Spirits Group plc from the UK, and from the USA I will look at The Boston Beer Company, Inc.and Diageo plc. The reason for using two companies from the USA is that it may be interesting to compare the two since the first is a brewer and the second is in the category 'Wineries & Distillers'. "
   ]
  },
  {
   "cell_type": "code",
   "execution_count": 116,
   "id": "3ee22ba0",
   "metadata": {},
   "outputs": [
    {
     "name": "stdout",
     "output_type": "stream",
     "text": [
      "Requirement already satisfied: yfinance in c:\\users\\ab154\\anaconda3\\lib\\site-packages (0.1.69)\n",
      "Requirement already satisfied: lxml>=4.5.1 in c:\\users\\ab154\\anaconda3\\lib\\site-packages (from yfinance) (4.6.3)\n",
      "Requirement already satisfied: requests>=2.26 in c:\\users\\ab154\\anaconda3\\lib\\site-packages (from yfinance) (2.26.0)\n",
      "Requirement already satisfied: multitasking>=0.0.7 in c:\\users\\ab154\\anaconda3\\lib\\site-packages (from yfinance) (0.0.10)\n",
      "Requirement already satisfied: pandas>=0.24 in c:\\users\\ab154\\anaconda3\\lib\\site-packages (from yfinance) (1.3.4)\n",
      "Requirement already satisfied: numpy>=1.15 in c:\\users\\ab154\\anaconda3\\lib\\site-packages (from yfinance) (1.20.3)\n",
      "Requirement already satisfied: python-dateutil>=2.7.3 in c:\\users\\ab154\\anaconda3\\lib\\site-packages (from pandas>=0.24->yfinance) (2.8.2)\n",
      "Requirement already satisfied: pytz>=2017.3 in c:\\users\\ab154\\anaconda3\\lib\\site-packages (from pandas>=0.24->yfinance) (2021.3)\n",
      "Requirement already satisfied: six>=1.5 in c:\\users\\ab154\\anaconda3\\lib\\site-packages (from python-dateutil>=2.7.3->pandas>=0.24->yfinance) (1.16.0)\n",
      "Requirement already satisfied: charset-normalizer~=2.0.0 in c:\\users\\ab154\\anaconda3\\lib\\site-packages (from requests>=2.26->yfinance) (2.0.4)\n",
      "Requirement already satisfied: certifi>=2017.4.17 in c:\\users\\ab154\\anaconda3\\lib\\site-packages (from requests>=2.26->yfinance) (2021.10.8)\n",
      "Requirement already satisfied: idna<4,>=2.5 in c:\\users\\ab154\\anaconda3\\lib\\site-packages (from requests>=2.26->yfinance) (3.2)\n",
      "Requirement already satisfied: urllib3<1.27,>=1.21.1 in c:\\users\\ab154\\anaconda3\\lib\\site-packages (from requests>=2.26->yfinance) (1.26.7)\n"
     ]
    }
   ],
   "source": [
    "!pip install yfinance"
   ]
  },
  {
   "cell_type": "code",
   "execution_count": 117,
   "id": "827b6af6",
   "metadata": {},
   "outputs": [],
   "source": [
    "import pandas as pd\n",
    "import yfinance as yf"
   ]
  },
  {
   "cell_type": "code",
   "execution_count": 118,
   "id": "09a726bf",
   "metadata": {},
   "outputs": [],
   "source": [
    "StockSpirits = yf.Ticker(\"STCK.L\")"
   ]
  },
  {
   "cell_type": "code",
   "execution_count": 119,
   "id": "68f65f0e",
   "metadata": {},
   "outputs": [],
   "source": [
    "StockSpiritsHist = StockSpirits.history(period=\"36mo\")"
   ]
  },
  {
   "cell_type": "code",
   "execution_count": 120,
   "id": "b9f9963a",
   "metadata": {},
   "outputs": [],
   "source": [
    "StockSpiritsHist.reset_index(inplace=True)"
   ]
  },
  {
   "cell_type": "code",
   "execution_count": 121,
   "id": "6753756e",
   "metadata": {},
   "outputs": [
    {
     "data": {
      "text/html": [
       "<div>\n",
       "<style scoped>\n",
       "    .dataframe tbody tr th:only-of-type {\n",
       "        vertical-align: middle;\n",
       "    }\n",
       "\n",
       "    .dataframe tbody tr th {\n",
       "        vertical-align: top;\n",
       "    }\n",
       "\n",
       "    .dataframe thead th {\n",
       "        text-align: right;\n",
       "    }\n",
       "</style>\n",
       "<table border=\"1\" class=\"dataframe\">\n",
       "  <thead>\n",
       "    <tr style=\"text-align: right;\">\n",
       "      <th></th>\n",
       "      <th>Date</th>\n",
       "      <th>Open</th>\n",
       "      <th>High</th>\n",
       "      <th>Low</th>\n",
       "      <th>Close</th>\n",
       "      <th>Volume</th>\n",
       "      <th>Dividends</th>\n",
       "      <th>Stock Splits</th>\n",
       "    </tr>\n",
       "  </thead>\n",
       "  <tbody>\n",
       "    <tr>\n",
       "      <th>0</th>\n",
       "      <td>2019-01-28</td>\n",
       "      <td>184.365027</td>\n",
       "      <td>192.705349</td>\n",
       "      <td>184.365027</td>\n",
       "      <td>189.632599</td>\n",
       "      <td>90381</td>\n",
       "      <td>0.0</td>\n",
       "      <td>0</td>\n",
       "    </tr>\n",
       "    <tr>\n",
       "      <th>1</th>\n",
       "      <td>2019-01-29</td>\n",
       "      <td>189.193621</td>\n",
       "      <td>192.266372</td>\n",
       "      <td>189.193621</td>\n",
       "      <td>191.388443</td>\n",
       "      <td>171420</td>\n",
       "      <td>0.0</td>\n",
       "      <td>0</td>\n",
       "    </tr>\n",
       "    <tr>\n",
       "      <th>2</th>\n",
       "      <td>2019-01-30</td>\n",
       "      <td>189.632574</td>\n",
       "      <td>195.778074</td>\n",
       "      <td>189.632574</td>\n",
       "      <td>194.022217</td>\n",
       "      <td>55432</td>\n",
       "      <td>0.0</td>\n",
       "      <td>0</td>\n",
       "    </tr>\n",
       "    <tr>\n",
       "      <th>3</th>\n",
       "      <td>2019-01-31</td>\n",
       "      <td>190.510514</td>\n",
       "      <td>205.874265</td>\n",
       "      <td>190.510514</td>\n",
       "      <td>203.679443</td>\n",
       "      <td>552199</td>\n",
       "      <td>0.0</td>\n",
       "      <td>0</td>\n",
       "    </tr>\n",
       "    <tr>\n",
       "      <th>4</th>\n",
       "      <td>2019-02-01</td>\n",
       "      <td>205.874266</td>\n",
       "      <td>205.874266</td>\n",
       "      <td>200.606694</td>\n",
       "      <td>204.557373</td>\n",
       "      <td>913579</td>\n",
       "      <td>0.0</td>\n",
       "      <td>0</td>\n",
       "    </tr>\n",
       "  </tbody>\n",
       "</table>\n",
       "</div>"
      ],
      "text/plain": [
       "        Date        Open        High         Low       Close  Volume  \\\n",
       "0 2019-01-28  184.365027  192.705349  184.365027  189.632599   90381   \n",
       "1 2019-01-29  189.193621  192.266372  189.193621  191.388443  171420   \n",
       "2 2019-01-30  189.632574  195.778074  189.632574  194.022217   55432   \n",
       "3 2019-01-31  190.510514  205.874265  190.510514  203.679443  552199   \n",
       "4 2019-02-01  205.874266  205.874266  200.606694  204.557373  913579   \n",
       "\n",
       "   Dividends  Stock Splits  \n",
       "0        0.0             0  \n",
       "1        0.0             0  \n",
       "2        0.0             0  \n",
       "3        0.0             0  \n",
       "4        0.0             0  "
      ]
     },
     "execution_count": 121,
     "metadata": {},
     "output_type": "execute_result"
    }
   ],
   "source": [
    "StockSpiritsHist.head()"
   ]
  },
  {
   "cell_type": "code",
   "execution_count": 122,
   "id": "00ed7e4f",
   "metadata": {},
   "outputs": [
    {
     "data": {
      "text/plain": [
       "<AxesSubplot:xlabel='Date'>"
      ]
     },
     "execution_count": 122,
     "metadata": {},
     "output_type": "execute_result"
    },
    {
     "data": {
      "image/png": "[encoded data removed]",
      "text/plain": [
       "<Figure size 432x288 with 1 Axes>"
      ]
     },
     "metadata": {
      "needs_background": "light"
     },
     "output_type": "display_data"
    }
   ],
   "source": [
    "StockSpiritsHist.plot(x=\"Date\", y=\"Open\")"
   ]
  },
  {
   "cell_type": "markdown",
   "id": "bb4cb0d4",
   "metadata": {},
   "source": [
    "Interesting! Stock prices rose during lockdowns but it looks as though something happened at this particular company at the end."
   ]
  },
  {
   "cell_type": "code",
   "execution_count": 123,
   "id": "af467af1",
   "metadata": {},
   "outputs": [],
   "source": [
    "BostonBeer = yf.Ticker(\"SAM\")"
   ]
  },
  {
   "cell_type": "code",
   "execution_count": 124,
   "id": "014d3f93",
   "metadata": {},
   "outputs": [],
   "source": [
    "BostonBeerHist = BostonBeer.history(period=\"36mo\")"
   ]
  },
  {
   "cell_type": "code",
   "execution_count": 125,
   "id": "567356af",
   "metadata": {},
   "outputs": [
    {
     "data": {
      "text/plain": [
       "<AxesSubplot:xlabel='Date'>"
      ]
     },
     "execution_count": 125,
     "metadata": {},
     "output_type": "execute_result"
    },
    {
     "data": {
      "image/png": "[encoded data removed]",
      "text/plain": [
       "<Figure size 432x288 with 1 Axes>"
      ]
     },
     "metadata": {
      "needs_background": "light"
     },
     "output_type": "display_data"
    }
   ],
   "source": [
    "BostonBeerHist.reset_index(inplace=True)\n",
    "BostonBeerHist.plot(x=\"Date\",y=\"Open\")"
   ]
  },
  {
   "cell_type": "markdown",
   "id": "c28e2136",
   "metadata": {},
   "source": [
    "Interesting contrast to the first graph. It still shows that the stock prices were higher during Covid but then tailed off. There is a very different rate of change on both the increase and the decrease compared to the first graph. "
   ]
  },
  {
   "cell_type": "code",
   "execution_count": 136,
   "id": "032c49b9",
   "metadata": {},
   "outputs": [],
   "source": [
    "Diageo = yf.Ticker(\"DEO\")"
   ]
  },
  {
   "cell_type": "code",
   "execution_count": 137,
   "id": "6b81b057",
   "metadata": {},
   "outputs": [],
   "source": [
    "DiageoHist = Diageo.history(period=\"36mo\")"
   ]
  },
  {
   "cell_type": "code",
   "execution_count": 140,
   "id": "8f68970a",
   "metadata": {},
   "outputs": [
    {
     "data": {
      "text/plain": [
       "<AxesSubplot:xlabel='Date'>"
      ]
     },
     "execution_count": 140,
     "metadata": {},
     "output_type": "execute_result"
    },
    {
     "data": {
      "image/png": "[encoded data removed]",
      "text/plain": [
       "<Figure size 432x288 with 1 Axes>"
      ]
     },
     "metadata": {
      "needs_background": "light"
     },
     "output_type": "display_data"
    }
   ],
   "source": [
    "DiageoHist.reset_index(inplace=True)\n",
    "DiageoHist.plot(x=\"Date\",y=\"Open\")"
   ]
  },
  {
   "cell_type": "markdown",
   "id": "33bfc467",
   "metadata": {},
   "source": [
    "This is very interesting. Remember that this is a winery/distillery company from the USA. There are marked differences to the second graph, which is a brewer from the USA. I have a theory from looking at this graph that this final company (Diageo plc) supplies to the catering trade and restaurants and that as people are becoming more confident having been vaccinated they are going out more, hence trade is increasing and stock price increasing. The second company is a brewery from the USA (The Boston Beer Company) and perhaps they supply to supermarkets, which is why demand was higher when people were stuck at home more. "
   ]
  },
  {
   "cell_type": "markdown",
   "id": "d826eb67",
   "metadata": {},
   "source": [
    "# Summary"
   ]
  },
  {
   "cell_type": "markdown",
   "id": "6b7892bc",
   "metadata": {},
   "source": [
    "I can't compare the UK and USA since the UK graph shows something significant happened to the company that doesn't look like a usual event. \n",
    "From the two USA graphs, it seems that the Winery/Distillery company didn't do so well as the Brewers to start with, but has now overtaken them. \n",
    "\n",
    "Obviously a LOT more work would need to be done to draw proper conclusions - this was just for fun!"
   ]
  }
 ],
 "metadata": {
  "kernelspec": {
   "display_name": "Python 3 (ipykernel)",
   "language": "python",
   "name": "python3"
  },
  "language_info": {
   "codemirror_mode": {
    "name": "ipython",
    "version": 3
   },
   "file_extension": ".py",
   "mimetype": "text/x-python",
   "name": "python",
   "nbconvert_exporter": "python",
   "pygments_lexer": "ipython3",
   "version": "3.9.7"
  }
 },
 "nbformat": 4,
 "nbformat_minor": 5
}
